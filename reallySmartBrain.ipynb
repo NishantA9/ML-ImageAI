{
 "cells": [
  {
   "cell_type": "code",
   "execution_count": null,
   "metadata": {},
   "outputs": [],
   "source": [
    "# New Version:\n",
    "# imageai.Prediction no longer exists, replaced by imageai.Classification\n",
    "from imageai.Classification import ImageClassification\n",
    "import os\n",
    " \n",
    "exec_path = os.getcwd()\n",
    " \n",
    "prediction = ImageClassification()\n",
    "# SqueezeNet model also no longer exists, now the fastest is MobileNetV2\n",
    "prediction.setModelTypeAsMobileNetV2()\n",
    "prediction.setModelPath(os.path.join(exec_path, 'mobilenet_v2-b0353104.pth'))\n",
    "prediction.loadModel()\n",
    " \n",
    "predctions, probabilities = prediction.classifyImage(os.path.join(exec_path,'house.jpg'), result_count=5)\n",
    "for eachPred, eachProb in zip(predctions, probabilities):\n",
    "    print(f'{eachPred} : {eachProb}')\n",
    " \n",
    " \n",
    " \n",
    " \n",
    "# --------------------------------------------------------------------\n",
    "# Old Version:\n",
    "# from imageai.Prediction import ImagePrediction\n",
    "# import os\n",
    "# execution_path=os.getcwd()\n",
    " \n",
    "# prediction = ImagePrediction()\n",
    "# prediction.setModelTypeAsSqueezeNet()\n",
    "# prediction.setModelPath(os.path.join(execution_path, \"squeezenet_weights_tf_dim_ordering_tf_kernels.h5\"))\n",
    "# prediction.loadModel()\n",
    " \n",
    "# predictions, probabilities = prediction.predictImage(os.path.join(execution_path, \"giraffe.jpg\"), result_count=5 )\n",
    "# for eachPrediction, eachProbability in zip(predictions, probabilities):\n",
    "#     print(eachPrediction , \" : \" , eachProbability)"
   ]
  }
 ],
 "metadata": {
  "language_info": {
   "name": "python"
  }
 },
 "nbformat": 4,
 "nbformat_minor": 2
}
